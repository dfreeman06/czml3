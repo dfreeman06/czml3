{
 "cells": [
  {
   "cell_type": "markdown",
   "metadata": {},
   "source": [
    "# CesiumJS Wrapper Integration"
   ]
  },
  {
   "cell_type": "code",
   "execution_count": 1,
   "metadata": {},
   "outputs": [],
   "source": [
    "import czml3, json\n",
    "from pathlib import Path\n",
    "from datetime import datetime, timedelta, timezone\n",
    "from czml3.datasource import CzmlDataSource\n",
    "import traitlets as T\n",
    "import ipywidgets as W\n",
    "\n",
    "doc1= json.load(Path(\"../czml3/tests/fixtures/simple.czml\").open())\n",
    "doc2 = json.load(Path(\"../czml3/tests/fixtures/PolygonIntervalsAvailability.czml\").open())"
   ]
  },
  {
   "cell_type": "code",
   "execution_count": 13,
   "metadata": {},
   "outputs": [
    {
     "data": {
      "application/vnd.jupyter.widget-view+json": {
       "model_id": "969d9788d9ad4a7d860945e05f01283f",
       "version_major": 2,
       "version_minor": 0
      },
      "text/plain": [
       "HBox(children=(CZMLWidget(camera=CZMLCamera(direction=Cartesian3(), position=Cartesian3()), clock=CZMLClock(cu…"
      ]
     },
     "metadata": {},
     "output_type": "display_data"
    }
   ],
   "source": [
    "options = {\n",
    "    \"homeButton\":False,\n",
    "    # \"timeline\": False,\n",
    "    \"navigationHelpButton\": False,\n",
    "    \"fullscreenButton\": False,\n",
    "    # \"animation\": False,\n",
    "    \"projectionPicker\": False,\n",
    "    \"navigationHelpButton\": False,\n",
    "    \"infoBox\": False,\n",
    "    \"geocoder\": False,\n",
    "    \"baseLayerPicker\": False,\n",
    "    \"sceneModePicker\": False,\n",
    "}\n",
    "layout = {\n",
    "        \"height\":\"100%\",\n",
    "        \"min_height\": \"500px\",\n",
    "        \"max_height\": \"500px\",\n",
    "        \"width\":\"100%\",\n",
    "    }\n",
    "w1 = czml3.CZMLWidget(\n",
    "    datasources=(\n",
    "        CzmlDataSource.load(doc1),\n",
    "    ),\n",
    "    options=options,\n",
    "    layout=layout,\n",
    ")\n",
    "w2 = czml3.CZMLWidget(\n",
    "    datasources=(\n",
    "        CzmlDataSource.load(doc1),\n",
    "        CzmlDataSource.load(doc2),\n",
    "    ),\n",
    "    options=options,\n",
    "    layout=layout,\n",
    ")\n",
    "\n",
    "\n",
    "T.link((w1.clock, \"current_time\"), (w2.clock, \"current_time\"))\n",
    "\n",
    "W.HBox([w2])"
   ]
  },
  {
   "cell_type": "markdown",
   "metadata": {},
   "source": [
    "# Camera Control"
   ]
  },
  {
   "cell_type": "code",
   "execution_count": 4,
   "metadata": {},
   "outputs": [],
   "source": [
    "w2.camera.fly_to(\n",
    "    destination={\n",
    "        \"x\": w1.camera.position.x,\n",
    "        \"y\": w1.camera.position.y,\n",
    "        \"z\": w1.camera.position.z,\n",
    "    },\n",
    "    orientation={\n",
    "        \"x\": w1.camera.direction.x,\n",
    "        \"y\": w1.camera.direction.y,\n",
    "        \"z\": w1.camera.direction.z,\n",
    "    },\n",
    ")"
   ]
  },
  {
   "cell_type": "code",
   "execution_count": 35,
   "metadata": {},
   "outputs": [
    {
     "data": {
      "text/plain": [
       "(CzmlDataSource(entities=EntityCollection()),)"
      ]
     },
     "execution_count": 35,
     "metadata": {},
     "output_type": "execute_result"
    }
   ],
   "source": [
    "\n"
   ]
  },
  {
   "cell_type": "code",
   "execution_count": 24,
   "metadata": {},
   "outputs": [
    {
     "data": {
      "text/plain": [
       "datetime.datetime(2012, 3, 15, 10, 0, tzinfo=datetime.timezone.utc)"
      ]
     },
     "execution_count": 24,
     "metadata": {},
     "output_type": "execute_result"
    }
   ],
   "source": [
    "w.clock.current_time "
   ]
  },
  {
   "cell_type": "code",
   "execution_count": 44,
   "metadata": {},
   "outputs": [
    {
     "data": {
      "text/plain": [
       "<traitlets.traitlets.link at 0x7ff6d09eda80>"
      ]
     },
     "execution_count": 44,
     "metadata": {},
     "output_type": "execute_result"
    }
   ],
   "source": []
  },
  {
   "cell_type": "code",
   "execution_count": 24,
   "metadata": {},
   "outputs": [],
   "source": [
    "w1.clock.current_time = w1.clock.current_time + timedelta(hours=1)"
   ]
  },
  {
   "cell_type": "markdown",
   "metadata": {},
   "source": [
    "# Figuring Out Entities"
   ]
  },
  {
   "cell_type": "code",
   "execution_count": 32,
   "metadata": {},
   "outputs": [
    {
     "data": {
      "text/plain": [
       "(Entity(id='9927edc4-e87a-4e1f-9b8b-0bfb3b05b227'),\n",
       " Entity(id='Satellite/Geoeye1-to-Satellite/ISS'),\n",
       " Entity(id='Facility/AGI-to-Satellite/ISS'),\n",
       " Entity(id='Facility/AGI-to-Satellite/Geoeye1/Sensor/Sensor'),\n",
       " Entity(id='AreaTarget/Pennsylvania'),\n",
       " Entity(id='Facility/AGI'),\n",
       " Entity(id='Satellite/Geoeye1'),\n",
       " Entity(id='Satellite/Geoeye1/Sensor/Sensor'),\n",
       " Entity(id='Satellite/ISS'),\n",
       " Entity(id='Satellite/Molniya_1-92'))"
      ]
     },
     "execution_count": 32,
     "metadata": {},
     "output_type": "execute_result"
    }
   ],
   "source": [
    "ds1.entities.values"
   ]
  },
  {
   "cell_type": "code",
   "execution_count": 6,
   "metadata": {},
   "outputs": [],
   "source": [
    "result = []\n",
    "def _handle_response(camera):\n",
    "    result.append(1)\n",
    "w.camera.on_move(_handle_response)"
   ]
  },
  {
   "cell_type": "code",
   "execution_count": 9,
   "metadata": {},
   "outputs": [
    {
     "data": {
      "text/plain": [
       "[1, 1, 1, 1, 1, 1, 1, 1, 1, 1, 1]"
      ]
     },
     "execution_count": 9,
     "metadata": {},
     "output_type": "execute_result"
    }
   ],
   "source": [
    "result"
   ]
  },
  {
   "cell_type": "code",
   "execution_count": 21,
   "metadata": {},
   "outputs": [
    {
     "data": {
      "text/plain": [
       "datetime.datetime(2012, 3, 16, 1, 44, 23, 862332, tzinfo=datetime.timezone.utc)"
      ]
     },
     "execution_count": 21,
     "metadata": {},
     "output_type": "execute_result"
    }
   ],
   "source": [
    "w.clock.current_time"
   ]
  },
  {
   "cell_type": "code",
   "execution_count": 8,
   "metadata": {},
   "outputs": [],
   "source": [
    "import pytz\n",
    "\n",
    "w.clock.current_time = (w.clock.current_time + timedelta(hours=1)).astimezone(pytz.timezone(\"US/Eastern\"))\n",
    "# w.clock.current_time = w.clock.current_time.astimezone(pytz.timezone(\"UTC\"))"
   ]
  },
  {
   "cell_type": "code",
   "execution_count": 6,
   "metadata": {},
   "outputs": [
    {
     "data": {
      "text/plain": [
       "'2012-03-15T06:00:00.000000EDT'"
      ]
     },
     "execution_count": 6,
     "metadata": {},
     "output_type": "execute_result"
    }
   ],
   "source": [
    "\n",
    "w.clock.current_time.strftime(\"%Y-%m-%dT%H:%M:%S.%f%Z\")"
   ]
  },
  {
   "cell_type": "code",
   "execution_count": 7,
   "metadata": {},
   "outputs": [
    {
     "data": {
      "text/plain": [
       "'2012-03-15T06:00:00-04:00'"
      ]
     },
     "execution_count": 7,
     "metadata": {},
     "output_type": "execute_result"
    }
   ],
   "source": [
    "w.clock.current_time.isoformat()"
   ]
  },
  {
   "cell_type": "code",
   "execution_count": 5,
   "metadata": {},
   "outputs": [
    {
     "data": {
      "text/plain": [
       "datetime.datetime(2012, 3, 15, 14, 0, tzinfo=datetime.timezone.utc)"
      ]
     },
     "execution_count": 5,
     "metadata": {},
     "output_type": "execute_result"
    }
   ],
   "source": [
    "w.clock.current_time = w.clock.current_time + timedelta(hours=4)\n",
    "w.clock.current_time"
   ]
  },
  {
   "cell_type": "code",
   "execution_count": 17,
   "metadata": {},
   "outputs": [],
   "source": [
    "w.layout.min_height = \"500px\""
   ]
  },
  {
   "cell_type": "code",
   "execution_count": 7,
   "metadata": {},
   "outputs": [],
   "source": [
    "w.document = doc"
   ]
  },
  {
   "cell_type": "code",
   "execution_count": 63,
   "metadata": {},
   "outputs": [],
   "source": []
  },
  {
   "cell_type": "code",
   "execution_count": 10,
   "metadata": {},
   "outputs": [],
   "source": []
  }
 ],
 "metadata": {
  "kernelspec": {
   "display_name": "Python 3 (ipykernel)",
   "language": "python",
   "name": "python3"
  },
  "language_info": {
   "codemirror_mode": {
    "name": "ipython",
    "version": 3
   },
   "file_extension": ".py",
   "mimetype": "text/x-python",
   "name": "python",
   "nbconvert_exporter": "python",
   "pygments_lexer": "ipython3",
   "version": "3.10.0"
  }
 },
 "nbformat": 4,
 "nbformat_minor": 4
}
