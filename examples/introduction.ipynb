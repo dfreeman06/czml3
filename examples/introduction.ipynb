{
 "cells": [
  {
   "cell_type": "markdown",
   "metadata": {},
   "source": [
    "# CesiumJS Wrapper Integration"
   ]
  },
  {
   "cell_type": "code",
   "execution_count": null,
   "metadata": {},
   "outputs": [],
   "source": [
    "import czml3, json\n",
    "from pathlib import Path\n",
    "from datetime import datetime, timedelta, timezone\n",
    "from czml3.datasource import CzmlDataSource\n",
    "import traitlets as T\n",
    "import ipywidgets as W\n",
    "\n",
    "doc1= json.load(Path(\"../czml3/tests/fixtures/simple.czml\").open())\n",
    "doc2 = json.load(Path(\"../czml3/tests/fixtures/PolygonIntervalsAvailability.czml\").open())"
   ]
  },
  {
   "cell_type": "code",
   "execution_count": null,
   "metadata": {},
   "outputs": [],
   "source": [
    "# Can specify Cesium Viewer Constructor Options\n",
    "options = {\n",
    "    \"homeButton\":False,\n",
    "    # \"timeline\": False,\n",
    "    \"navigationHelpButton\": False,\n",
    "    \"fullscreenButton\": False,\n",
    "    # \"animation\": False,\n",
    "    \"projectionPicker\": False,\n",
    "    \"navigationHelpButton\": False,\n",
    "    \"infoBox\": False,\n",
    "    \"geocoder\": False,\n",
    "    \"baseLayerPicker\": False,\n",
    "    \"sceneModePicker\": False,\n",
    "}\n",
    "layout = {\n",
    "        \"height\":\"100%\",\n",
    "        \"min_height\": \"500px\",\n",
    "        \"max_height\": \"500px\",\n",
    "        \"width\":\"100%\",\n",
    "    }\n",
    "w1 = czml3.CZMLWidget(\n",
    "    datasources=(\n",
    "        CzmlDataSource.load(doc1),\n",
    "    ),\n",
    "    options=options,\n",
    "    layout=layout,\n",
    "    ion_token=\"\", # pass in to set the default Cesium Ion Token\n",
    ")\n",
    "w2 = czml3.CZMLWidget(\n",
    "    datasources=(\n",
    "        CzmlDataSource.load(doc1),\n",
    "        CzmlDataSource.load(doc2),\n",
    "    ),\n",
    "    # options=options,\n",
    "    layout=layout,\n",
    ")\n",
    "\n",
    "#  Sync the widgets' clocks\n",
    "T.link((w1.clock, \"current_time\"), (w2.clock, \"current_time\"))\n",
    "\n",
    "W.HBox([w1, w2])"
   ]
  },
  {
   "cell_type": "markdown",
   "metadata": {},
   "source": [
    "# Camera Control\n",
    "Commanding the second widget's camera to match the firsts position and orientation."
   ]
  },
  {
   "cell_type": "code",
   "execution_count": null,
   "metadata": {},
   "outputs": [],
   "source": [
    "w2.camera.fly_to(\n",
    "    destination={\n",
    "        \"x\": w1.camera.position.x,\n",
    "        \"y\": w1.camera.position.y,\n",
    "        \"z\": w1.camera.position.z,\n",
    "    },\n",
    "    orientation={\n",
    "        \"x\": w1.camera.direction.x,\n",
    "        \"y\": w1.camera.direction.y,\n",
    "        \"z\": w1.camera.direction.z,\n",
    "    },\n",
    ")"
   ]
  },
  {
   "cell_type": "markdown",
   "metadata": {},
   "source": [
    "# Clock Control"
   ]
  },
  {
   "cell_type": "code",
   "execution_count": null,
   "metadata": {},
   "outputs": [],
   "source": [
    "w1.clock.current_time "
   ]
  },
  {
   "cell_type": "markdown",
   "metadata": {},
   "source": [
    "Incrementing `current_time` by one hour. Will update both Cesium Widgets since their clocks' `current_time` traitlet has been linked."
   ]
  },
  {
   "cell_type": "code",
   "execution_count": null,
   "metadata": {},
   "outputs": [],
   "source": [
    "w1.clock.current_time = w1.clock.current_time + timedelta(hours=1)"
   ]
  },
  {
   "cell_type": "markdown",
   "metadata": {},
   "source": [
    "# Entities\n",
    "Getting back the list of `Entities` that were generated from loading one of the datasources."
   ]
  },
  {
   "cell_type": "code",
   "execution_count": null,
   "metadata": {},
   "outputs": [],
   "source": [
    "w1.datasources[0].entities.values"
   ]
  }
 ],
 "metadata": {
  "kernelspec": {
   "display_name": "Python 3 (ipykernel)",
   "language": "python",
   "name": "python3"
  },
  "language_info": {
   "codemirror_mode": {
    "name": "ipython",
    "version": 3
   },
   "file_extension": ".py",
   "mimetype": "text/x-python",
   "name": "python",
   "nbconvert_exporter": "python",
   "pygments_lexer": "ipython3",
   "version": "3.10.0"
  }
 },
 "nbformat": 4,
 "nbformat_minor": 4
}
